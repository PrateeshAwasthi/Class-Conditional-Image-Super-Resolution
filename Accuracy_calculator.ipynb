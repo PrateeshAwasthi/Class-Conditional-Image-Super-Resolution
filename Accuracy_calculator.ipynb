{
 "cells": [
  {
   "cell_type": "code",
   "execution_count": 1,
   "metadata": {},
   "outputs": [],
   "source": [
    "import pandas as pd"
   ]
  },
  {
   "cell_type": "code",
   "execution_count": 2,
   "metadata": {},
   "outputs": [
    {
     "name": "stdout",
     "output_type": "stream",
     "text": [
      "0.0 0 0 0 0\n",
      "90.0480653689017 10296 27173 1244 2897\n",
      "93.07858687815428 9390 29340 2452 428\n"
     ]
    }
   ],
   "source": [
    "df=pd.read_csv(\"esrgan_result.csv\")\n",
    "\n",
    "gender_accuracy=0\n",
    "eyeglasses_accuracy=0\n",
    "hat_accuracy=0\n",
    "j=0\n",
    "\n",
    "TP_eye=0\n",
    "TN_eye=0\n",
    "FP_eye=0\n",
    "FN_eye=0\n",
    "\n",
    "TP_gender=0\n",
    "TN_gender=0\n",
    "FP_gender=0\n",
    "FN_gender=0\n",
    "\n",
    "TP_hat=0\n",
    "TN_hat=0\n",
    "FP_hat=0\n",
    "FN_hat=0\n",
    "\n",
    "\n",
    "for i in df.index:\n",
    "    j+=1\n",
    "    if (df.iloc[i][\"Eye_PL\"]==1 and df.iloc[i][\"Eye_CL\"]==1):\n",
    "        eyeglasses_accuracy+=1\n",
    "        TP_eye+=1\n",
    "\n",
    "    elif (df.iloc[i][\"Eye_PL\"]==0 and df.iloc[i][\"Eye_CL\"]==0):\n",
    "        eyeglasses_accuracy+=1\n",
    "        TN_eye+=1\n",
    "        \n",
    "\n",
    "    elif (df.iloc[i][\"Eye_PL\"]==0 and df.iloc[i][\"Eye_CL\"]==1):\n",
    "        FN_eye+=1\n",
    "    else:\n",
    "        FP_eye+=1\n",
    "# GENDER\n",
    "    # if (df.iloc[i][\"Gender_PL\"]==1 and df.iloc[i][\"Gender_CL\"]==1):\n",
    "    #     gender_accuracy+=1\n",
    "    #     TP_gender+=1\n",
    "\n",
    "    # elif (df.iloc[i][\"Gender_PL\"]==0 and df.iloc[i][\"Gender_CL\"]==0):\n",
    "    #     gender_accuracy+=1\n",
    "    #     TN_gender+=1\n",
    "        \n",
    "\n",
    "    # elif (df.iloc[i][\"Gender_PL\"]==0 and df.iloc[i][\"Gender_CL\"]==1):\n",
    "    #     FN_gender+=1\n",
    "    # else:\n",
    "    #     FP_gender+=1\n",
    "\n",
    "    # HAT\n",
    "    if (df.iloc[i][\"Hat_PL\"]==1 and df.iloc[i][\"Hat_CL\"]==1):\n",
    "        hat_accuracy+=1\n",
    "        TP_hat+=1\n",
    "\n",
    "    elif (df.iloc[i][\"Hat_PL\"]==0 and df.iloc[i][\"Hat_CL\"]==0):\n",
    "        hat_accuracy+=1\n",
    "        TN_hat+=1\n",
    "        \n",
    "\n",
    "    elif (df.iloc[i][\"Hat_PL\"]==0 and df.iloc[i][\"Hat_CL\"]==1):\n",
    "        FN_hat+=1\n",
    "    else:\n",
    "        FP_hat+=1\n",
    "\n",
    "\n",
    "    # if (df.iloc[i][\"Hat_PL\"]==df.iloc[i][\"Hat_CL\"]):\n",
    "    #     hat_accuracy+=1\n",
    "    # else :\n",
    "\n",
    "\n",
    "\n",
    "print(gender_accuracy/j*100,TP_gender,TN_gender,FP_gender,FN_gender)\n",
    "print(eyeglasses_accuracy/j*100,TP_eye,TN_eye,FP_eye,FN_eye)\n",
    "print(hat_accuracy/j*100,TP_hat,TN_hat,FP_hat,FN_hat)\n"
   ]
  },
  {
   "cell_type": "code",
   "execution_count": null,
   "metadata": {},
   "outputs": [],
   "source": []
  }
 ],
 "metadata": {
  "interpreter": {
   "hash": "4756ccc762bef11adabfb716cb32bfda6bcfd6eaec5d7f7e9ef0662b5c4e52da"
  },
  "kernelspec": {
   "display_name": "Python 3.9.7 ('ersgan')",
   "language": "python",
   "name": "python3"
  },
  "language_info": {
   "codemirror_mode": {
    "name": "ipython",
    "version": 3
   },
   "file_extension": ".py",
   "mimetype": "text/x-python",
   "name": "python",
   "nbconvert_exporter": "python",
   "pygments_lexer": "ipython3",
   "version": "3.9.7"
  },
  "orig_nbformat": 4
 },
 "nbformat": 4,
 "nbformat_minor": 2
}
